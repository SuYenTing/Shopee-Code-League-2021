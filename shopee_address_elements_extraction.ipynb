{
  "nbformat": 4,
  "nbformat_minor": 0,
  "metadata": {
    "accelerator": "GPU",
    "colab": {
      "name": "shopee-address-elements-extraction",
      "provenance": [],
      "collapsed_sections": [],
      "authorship_tag": "ABX9TyNxts8lMkyICeC7p9uhAwJy",
      "include_colab_link": true
    },
    "kernelspec": {
      "display_name": "Python 3",
      "name": "python3"
    }
  },
  "cells": [
    {
      "cell_type": "markdown",
      "metadata": {
        "id": "view-in-github",
        "colab_type": "text"
      },
      "source": [
        "<a href=\"https://colab.research.google.com/github/SuYenTing/Shopee-Code-League-2021/blob/main/shopee_address_elements_extraction.ipynb\" target=\"_parent\"><img src=\"https://colab.research.google.com/assets/colab-badge.svg\" alt=\"Open In Colab\"/></a>"
      ]
    },
    {
      "cell_type": "markdown",
      "metadata": {
        "id": "QgD_o5MfAKdg"
      },
      "source": [
        "# Shopee Code League - Address Elements Extraction\n",
        "2021/03/18 蘇彥庭\n",
        "\n",
        "* 程式碼改寫自: [Tensorflow學習課程-Neural machine translation with attention](https://www.tensorflow.org/tutorials/text/nmt_with_attention?fbclid=IwAR1JMaUDUpl0Q1T63YtoZIGsR7HqKpatLrd_oFzOwkcErJPK87zClprb6Ew)"
      ]
    },
    {
      "cell_type": "code",
      "metadata": {
        "id": "lWoJxpzzAHre",
        "colab": {
          "base_uri": "https://localhost:8080/"
        },
        "outputId": "7629cbfe-41ed-4aad-f0b0-9f1e0e8816d3"
      },
      "source": [
        "# 掛載Google雲端硬碟\n",
        "from google.colab import drive\n",
        "drive.mount('/content/drive')"
      ],
      "execution_count": null,
      "outputs": [
        {
          "output_type": "stream",
          "text": [
            "Mounted at /content/drive\n"
          ],
          "name": "stdout"
        }
      ]
    },
    {
      "cell_type": "code",
      "metadata": {
        "id": "5Ueoz3JBzZP6"
      },
      "source": [
        "# 設定Google雲端資料夾(讀取數據及存放模型使用)\n",
        "filePath = './drive/MyDrive/蝦皮競賽/'"
      ],
      "execution_count": null,
      "outputs": []
    },
    {
      "cell_type": "code",
      "metadata": {
        "id": "VTuzHvj39Yrx"
      },
      "source": [
        "# 載入套件\n",
        "import tensorflow as tf\n",
        "\n",
        "import matplotlib.pyplot as plt\n",
        "import matplotlib.ticker as ticker\n",
        "from sklearn.model_selection import train_test_split\n",
        "\n",
        "import unicodedata\n",
        "import re\n",
        "import numpy as np\n",
        "import os\n",
        "import io\n",
        "import time\n",
        "\n",
        "import pandas as pd\n",
        "from tqdm import tqdm "
      ],
      "execution_count": null,
      "outputs": []
    },
    {
      "cell_type": "code",
      "metadata": {
        "id": "K_hKH2pW9ZB6",
        "colab": {
          "base_uri": "https://localhost:8080/",
          "height": 419
        },
        "outputId": "14089299-d71c-4738-9702-5a130b6ebd04"
      },
      "source": [
        "# 讀取訓練集數據\n",
        "rawData = pd.read_csv(filePath + 'train.csv')\n",
        "rawData"
      ],
      "execution_count": null,
      "outputs": [
        {
          "output_type": "execute_result",
          "data": {
            "text/html": [
              "<div>\n",
              "<style scoped>\n",
              "    .dataframe tbody tr th:only-of-type {\n",
              "        vertical-align: middle;\n",
              "    }\n",
              "\n",
              "    .dataframe tbody tr th {\n",
              "        vertical-align: top;\n",
              "    }\n",
              "\n",
              "    .dataframe thead th {\n",
              "        text-align: right;\n",
              "    }\n",
              "</style>\n",
              "<table border=\"1\" class=\"dataframe\">\n",
              "  <thead>\n",
              "    <tr style=\"text-align: right;\">\n",
              "      <th></th>\n",
              "      <th>id</th>\n",
              "      <th>raw_address</th>\n",
              "      <th>POI/street</th>\n",
              "    </tr>\n",
              "  </thead>\n",
              "  <tbody>\n",
              "    <tr>\n",
              "      <th>0</th>\n",
              "      <td>0</td>\n",
              "      <td>jl kapuk timur delta sili iii lippo cika 11 a ...</td>\n",
              "      <td>/jl kapuk timur delta sili iii lippo cika</td>\n",
              "    </tr>\n",
              "    <tr>\n",
              "      <th>1</th>\n",
              "      <td>1</td>\n",
              "      <td>aye, jati sampurna</td>\n",
              "      <td>/</td>\n",
              "    </tr>\n",
              "    <tr>\n",
              "      <th>2</th>\n",
              "      <td>2</td>\n",
              "      <td>setu siung 119 rt 5 1 13880 cipayung</td>\n",
              "      <td>/siung</td>\n",
              "    </tr>\n",
              "    <tr>\n",
              "      <th>3</th>\n",
              "      <td>3</td>\n",
              "      <td>toko dita, kertosono</td>\n",
              "      <td>toko dita/</td>\n",
              "    </tr>\n",
              "    <tr>\n",
              "      <th>4</th>\n",
              "      <td>4</td>\n",
              "      <td>jl. orde baru</td>\n",
              "      <td>/jl. orde baru</td>\n",
              "    </tr>\n",
              "    <tr>\n",
              "      <th>...</th>\n",
              "      <td>...</td>\n",
              "      <td>...</td>\n",
              "      <td>...</td>\n",
              "    </tr>\n",
              "    <tr>\n",
              "      <th>299995</th>\n",
              "      <td>299995</td>\n",
              "      <td>jend ahmad yani 331 kertasari ciamis</td>\n",
              "      <td>/jend ahmad yani</td>\n",
              "    </tr>\n",
              "    <tr>\n",
              "      <th>299996</th>\n",
              "      <td>299996</td>\n",
              "      <td>raya cila kko, cilandak timur kel.</td>\n",
              "      <td>/raya cila kko</td>\n",
              "    </tr>\n",
              "    <tr>\n",
              "      <th>299997</th>\n",
              "      <td>299997</td>\n",
              "      <td>tanjung gusta jl. yaya 2 no 17</td>\n",
              "      <td>/</td>\n",
              "    </tr>\n",
              "    <tr>\n",
              "      <th>299998</th>\n",
              "      <td>299998</td>\n",
              "      <td>jalan cipadu jaya taman asri gang bijaksana 3 ...</td>\n",
              "      <td>taman asri/</td>\n",
              "    </tr>\n",
              "    <tr>\n",
              "      <th>299999</th>\n",
              "      <td>299999</td>\n",
              "      <td>jaya maspion permata blok beryl b2  no.58</td>\n",
              "      <td>jaya maspion permata/</td>\n",
              "    </tr>\n",
              "  </tbody>\n",
              "</table>\n",
              "<p>300000 rows × 3 columns</p>\n",
              "</div>"
            ],
            "text/plain": [
              "            id  ...                                 POI/street\n",
              "0            0  ...  /jl kapuk timur delta sili iii lippo cika\n",
              "1            1  ...                                          /\n",
              "2            2  ...                                     /siung\n",
              "3            3  ...                                 toko dita/\n",
              "4            4  ...                             /jl. orde baru\n",
              "...        ...  ...                                        ...\n",
              "299995  299995  ...                           /jend ahmad yani\n",
              "299996  299996  ...                             /raya cila kko\n",
              "299997  299997  ...                                          /\n",
              "299998  299998  ...                                taman asri/\n",
              "299999  299999  ...                      jaya maspion permata/\n",
              "\n",
              "[300000 rows x 3 columns]"
            ]
          },
          "metadata": {
            "tags": []
          },
          "execution_count": 4
        }
      ]
    },
    {
      "cell_type": "code",
      "metadata": {
        "id": "kKoga7RIjhUO",
        "colab": {
          "base_uri": "https://localhost:8080/",
          "height": 669
        },
        "outputId": "e1c37192-f84b-4016-c3f1-f9eaa3c2fc39"
      },
      "source": [
        "# 觀察樣本\n",
        "rawData.sample(20)"
      ],
      "execution_count": null,
      "outputs": [
        {
          "output_type": "execute_result",
          "data": {
            "text/html": [
              "<div>\n",
              "<style scoped>\n",
              "    .dataframe tbody tr th:only-of-type {\n",
              "        vertical-align: middle;\n",
              "    }\n",
              "\n",
              "    .dataframe tbody tr th {\n",
              "        vertical-align: top;\n",
              "    }\n",
              "\n",
              "    .dataframe thead th {\n",
              "        text-align: right;\n",
              "    }\n",
              "</style>\n",
              "<table border=\"1\" class=\"dataframe\">\n",
              "  <thead>\n",
              "    <tr style=\"text-align: right;\">\n",
              "      <th></th>\n",
              "      <th>id</th>\n",
              "      <th>raw_address</th>\n",
              "      <th>POI/street</th>\n",
              "    </tr>\n",
              "  </thead>\n",
              "  <tbody>\n",
              "    <tr>\n",
              "      <th>139503</th>\n",
              "      <td>139503</td>\n",
              "      <td>lamda iii karawaci baru karawaci</td>\n",
              "      <td>/lamda iii</td>\n",
              "    </tr>\n",
              "    <tr>\n",
              "      <th>5177</th>\n",
              "      <td>5177</td>\n",
              "      <td>pondok pinang sus 11 rt 7 10 kebayoran lama</td>\n",
              "      <td>/sus</td>\n",
              "    </tr>\n",
              "    <tr>\n",
              "      <th>46873</th>\n",
              "      <td>46873</td>\n",
              "      <td>mojo klan lor 62 mojo rt 6 4 gubeng</td>\n",
              "      <td>/mojo klan lor</td>\n",
              "    </tr>\n",
              "    <tr>\n",
              "      <th>17002</th>\n",
              "      <td>17002</td>\n",
              "      <td>niumich florist &amp; party supplier, jl. siti arm...</td>\n",
              "      <td>depan smk wahana bakti/jl. siti armilah</td>\n",
              "    </tr>\n",
              "    <tr>\n",
              "      <th>46849</th>\n",
              "      <td>46849</td>\n",
              "      <td>jl. prof. dr. latume 19 gro permai off complex...</td>\n",
              "      <td>grogol permai office complex/jl. prof. dr. latume</td>\n",
              "    </tr>\n",
              "    <tr>\n",
              "      <th>97759</th>\n",
              "      <td>97759</td>\n",
              "      <td>apartemen patria park, jl. di. panjaitan, note...</td>\n",
              "      <td>apartemen patria park/jl. di. panjaitan</td>\n",
              "    </tr>\n",
              "    <tr>\n",
              "      <th>45377</th>\n",
              "      <td>45377</td>\n",
              "      <td>cuci mobil motor &amp; kar, kap hary sardonoharjo</td>\n",
              "      <td>cuci mobil motor &amp; karpet/kapten hary</td>\n",
              "    </tr>\n",
              "    <tr>\n",
              "      <th>268015</th>\n",
              "      <td>268015</td>\n",
              "      <td>kup gn. tim., g v, putat jaya sawahan</td>\n",
              "      <td>kupang gn. tim./g v</td>\n",
              "    </tr>\n",
              "    <tr>\n",
              "      <th>248691</th>\n",
              "      <td>248691</td>\n",
              "      <td>sukomanunggal suko jaya i 64 3 sukomanunggal</td>\n",
              "      <td>/suko jaya i</td>\n",
              "    </tr>\n",
              "    <tr>\n",
              "      <th>56510</th>\n",
              "      <td>56510</td>\n",
              "      <td>ga8pro kem suka tani</td>\n",
              "      <td>ga8property/kem</td>\n",
              "    </tr>\n",
              "    <tr>\n",
              "      <th>164878</th>\n",
              "      <td>164878</td>\n",
              "      <td>bali franco, mayong</td>\n",
              "      <td>bali francophone/</td>\n",
              "    </tr>\n",
              "    <tr>\n",
              "      <th>53898</th>\n",
              "      <td>53898</td>\n",
              "      <td>bank neg indon, raya jati kra jatikramat jatiasih</td>\n",
              "      <td>bank negara indonesia/raya jati kra</td>\n",
              "    </tr>\n",
              "    <tr>\n",
              "      <th>62834</th>\n",
              "      <td>62834</td>\n",
              "      <td>cemp, no 9b</td>\n",
              "      <td>/cemp</td>\n",
              "    </tr>\n",
              "    <tr>\n",
              "      <th>14854</th>\n",
              "      <td>14854</td>\n",
              "      <td>nga jaya utara vi,</td>\n",
              "      <td>/nga jaya utara vi</td>\n",
              "    </tr>\n",
              "    <tr>\n",
              "      <th>67391</th>\n",
              "      <td>67391</td>\n",
              "      <td>cem, no 21 pamoyanan rt 3 6 bogor selatan - kota</td>\n",
              "      <td>/cem</td>\n",
              "    </tr>\n",
              "    <tr>\n",
              "      <th>90120</th>\n",
              "      <td>90120</td>\n",
              "      <td>kh mans, bendan kel. pekalongan barat</td>\n",
              "      <td>/kh mansyur</td>\n",
              "    </tr>\n",
              "    <tr>\n",
              "      <th>79232</th>\n",
              "      <td>79232</td>\n",
              "      <td>pool damri kemayoran</td>\n",
              "      <td>pool damri kemayoran/</td>\n",
              "    </tr>\n",
              "    <tr>\n",
              "      <th>256388</th>\n",
              "      <td>256388</td>\n",
              "      <td>zurmin,</td>\n",
              "      <td>zurmin/</td>\n",
              "    </tr>\n",
              "    <tr>\n",
              "      <th>153800</th>\n",
              "      <td>153800</td>\n",
              "      <td>mush al hikmah, jend sudi, tiro sompe</td>\n",
              "      <td>musholla al hikmah/jend sudi</td>\n",
              "    </tr>\n",
              "    <tr>\n",
              "      <th>22917</th>\n",
              "      <td>22917</td>\n",
              "      <td>kecamatan tanah abang belakang masjid ala muqowim</td>\n",
              "      <td>kecamatan tanah abang/</td>\n",
              "    </tr>\n",
              "  </tbody>\n",
              "</table>\n",
              "</div>"
            ],
            "text/plain": [
              "            id  ...                                         POI/street\n",
              "139503  139503  ...                                         /lamda iii\n",
              "5177      5177  ...                                               /sus\n",
              "46873    46873  ...                                     /mojo klan lor\n",
              "17002    17002  ...            depan smk wahana bakti/jl. siti armilah\n",
              "46849    46849  ...  grogol permai office complex/jl. prof. dr. latume\n",
              "97759    97759  ...            apartemen patria park/jl. di. panjaitan\n",
              "45377    45377  ...              cuci mobil motor & karpet/kapten hary\n",
              "268015  268015  ...                                kupang gn. tim./g v\n",
              "248691  248691  ...                                       /suko jaya i\n",
              "56510    56510  ...                                    ga8property/kem\n",
              "164878  164878  ...                                  bali francophone/\n",
              "53898    53898  ...                bank negara indonesia/raya jati kra\n",
              "62834    62834  ...                                              /cemp\n",
              "14854    14854  ...                                 /nga jaya utara vi\n",
              "67391    67391  ...                                               /cem\n",
              "90120    90120  ...                                        /kh mansyur\n",
              "79232    79232  ...                              pool damri kemayoran/\n",
              "256388  256388  ...                                            zurmin/\n",
              "153800  153800  ...                       musholla al hikmah/jend sudi\n",
              "22917    22917  ...                             kecamatan tanah abang/\n",
              "\n",
              "[20 rows x 3 columns]"
            ]
          },
          "metadata": {
            "tags": []
          },
          "execution_count": 5
        }
      ]
    },
    {
      "cell_type": "code",
      "metadata": {
        "id": "ze5xuSjrlYSz"
      },
      "source": [
        "# 確認資料\n",
        "checkData = rawData.iloc[[110083, 145144, 205578, 102960, 280843, 204764, 151962, 193572]]\n",
        "checkData"
      ],
      "execution_count": null,
      "outputs": []
    },
    {
      "cell_type": "code",
      "metadata": {
        "id": "_Ta6h0u0Bpbw"
      },
      "source": [
        "# 文本預處理\n",
        "# 將raw_address的','改為' , '\n",
        "# 此處保留逗號 因為對地址來說 應該是蠻重要的 可以區分不同類別(省份, 地標, 路, 街道, 號碼, etc)\n",
        "rawData['raw_address'] = rawData['raw_address'].str.replace(',', ' , ')\n",
        "# poi和street由於是預測目標 需完全相符才會得分 故不做預處理\n",
        "\n",
        "# 處理POI/street斜線\n",
        "rawData['POI/street'] = rawData['POI/street'].str.replace('/', ' <slash> ')\n",
        "\n",
        "# 加入<start>和<end>字詞 讓模型知道何時開始預測與停止\n",
        "rawData['raw_address'] = '<start> ' + rawData['raw_address'] + ' <end>'\n",
        "rawData['POI/street'] = '<start> ' + rawData['POI/street'] + ' <end>'\n",
        "rawData"
      ],
      "execution_count": null,
      "outputs": []
    },
    {
      "cell_type": "code",
      "metadata": {
        "id": "CEw5_0AG9oYY"
      },
      "source": [
        "# tokenize函數\n",
        "def tokenize(text):\n",
        "\n",
        "  text_tokenizer = tf.keras.preprocessing.text.Tokenizer(filters='')\n",
        "  text_tokenizer.fit_on_texts(text)\n",
        "  tensor = text_tokenizer.texts_to_sequences(text)\n",
        "  tensor = tf.keras.preprocessing.sequence.pad_sequences(tensor, padding='post')\n",
        "\n",
        "  return tensor, text_tokenizer"
      ],
      "execution_count": null,
      "outputs": []
    },
    {
      "cell_type": "code",
      "metadata": {
        "id": "1RaRhUT-AwLW"
      },
      "source": [
        "# 此處先只用raw_address預測POI/street欄位\n",
        "# 對raw_address及POI/street做tokenize\n",
        "target_tensor, targ_text = tokenize(rawData['POI/street'])\n",
        "input_tensor, inp_text = tokenize(rawData['raw_address'])"
      ],
      "execution_count": null,
      "outputs": []
    },
    {
      "cell_type": "code",
      "metadata": {
        "id": "OX0K-IM6IUnC"
      },
      "source": [
        "# token轉換文字函數\n",
        "def convert(text, tensor):\n",
        "  for t in tensor:\n",
        "    if t!=0:\n",
        "      print (\"%d ----> %s\" % (t, text.index_word[t]))"
      ],
      "execution_count": null,
      "outputs": []
    },
    {
      "cell_type": "code",
      "metadata": {
        "id": "NaoDW0_2IZg8"
      },
      "source": [
        "# 驗證token轉換文字是否有問題\n",
        "checkIdx = 300\n",
        "print (\"Input Text; index to word mapping\")\n",
        "convert(inp_text, input_tensor[checkIdx])\n",
        "print ()\n",
        "print (\"Target Text; index to word mapping\")\n",
        "convert(targ_text, target_tensor[checkIdx])"
      ],
      "execution_count": null,
      "outputs": []
    },
    {
      "cell_type": "code",
      "metadata": {
        "id": "Xb9Awdyz9t0X"
      },
      "source": [
        "# Calculate max_length of the target tensors\n",
        "max_length_targ, max_length_inp = target_tensor.shape[1], input_tensor.shape[1]\n",
        "print('max_length_targ:', max_length_targ)\n",
        "print('max_length_inp:', max_length_inp)"
      ],
      "execution_count": null,
      "outputs": []
    },
    {
      "cell_type": "code",
      "metadata": {
        "id": "tjO6zjG996VJ"
      },
      "source": [
        "# # Creating training and validation sets using an 80-20 split\n",
        "# input_tensor_train, input_tensor_val, target_tensor_train, target_tensor_val = train_test_split(input_tensor, target_tensor, test_size=0.2, random_state=1234)\n",
        "\n",
        "# # Show length\n",
        "# print(len(input_tensor_train), len(target_tensor_train), len(input_tensor_val), len(target_tensor_val))\n",
        "\n",
        "# 不做驗證集 直接訓練\n",
        "input_tensor_train = input_tensor\n",
        "target_tensor_train = target_tensor"
      ],
      "execution_count": null,
      "outputs": []
    },
    {
      "cell_type": "code",
      "metadata": {
        "id": "D3B9MxKXJlkM"
      },
      "source": [
        "# Create a tf.data dataset\n",
        "BUFFER_SIZE = len(input_tensor_train)\n",
        "BATCH_SIZE = 64\n",
        "steps_per_epoch = len(input_tensor_train)//BATCH_SIZE\n",
        "embedding_dim = 256\n",
        "units = 1024\n",
        "vocab_inp_size = len(inp_text.word_index)+1\n",
        "vocab_tar_size = len(targ_text.word_index)+1\n",
        "\n",
        "dataset = tf.data.Dataset.from_tensor_slices((input_tensor_train, target_tensor_train)).shuffle(BUFFER_SIZE)\n",
        "dataset = dataset.batch(BATCH_SIZE, drop_remainder=True)"
      ],
      "execution_count": null,
      "outputs": []
    },
    {
      "cell_type": "code",
      "metadata": {
        "id": "iDUmsFRHL1X_"
      },
      "source": [
        "example_input_batch, example_target_batch = next(iter(dataset))\n",
        "example_input_batch.shape, example_target_batch.shape"
      ],
      "execution_count": null,
      "outputs": []
    },
    {
      "cell_type": "code",
      "metadata": {
        "id": "3LImwRZpJrs1"
      },
      "source": [
        "class Encoder(tf.keras.Model):\n",
        "  def __init__(self, vocab_size, embedding_dim, enc_units, batch_sz):\n",
        "    super(Encoder, self).__init__()\n",
        "    self.batch_sz = batch_sz\n",
        "    self.enc_units = enc_units\n",
        "    self.embedding = tf.keras.layers.Embedding(vocab_size, embedding_dim)\n",
        "    self.gru = tf.keras.layers.GRU(self.enc_units,\n",
        "                                   return_sequences=True,\n",
        "                                   return_state=True,\n",
        "                                   recurrent_initializer='glorot_uniform')\n",
        "\n",
        "  def call(self, x, hidden):\n",
        "    x = self.embedding(x)\n",
        "    output, state = self.gru(x, initial_state = hidden)\n",
        "    return output, state\n",
        "\n",
        "  def initialize_hidden_state(self):\n",
        "    return tf.zeros((self.batch_sz, self.enc_units))"
      ],
      "execution_count": null,
      "outputs": []
    },
    {
      "cell_type": "code",
      "metadata": {
        "id": "IOaaYuJpJ3fc"
      },
      "source": [
        "encoder = Encoder(vocab_inp_size, embedding_dim, units, BATCH_SIZE)\n",
        "\n",
        "# sample input\n",
        "sample_hidden = encoder.initialize_hidden_state()\n",
        "sample_output, sample_hidden = encoder(example_input_batch, sample_hidden)\n",
        "print ('Encoder output shape: (batch size, sequence length, units) {}'.format(sample_output.shape))\n",
        "print ('Encoder Hidden state shape: (batch size, units) {}'.format(sample_hidden.shape))"
      ],
      "execution_count": null,
      "outputs": []
    },
    {
      "cell_type": "code",
      "metadata": {
        "id": "04ZpD_XWJ5-V"
      },
      "source": [
        "class BahdanauAttention(tf.keras.layers.Layer):\n",
        "  def __init__(self, units):\n",
        "    super(BahdanauAttention, self).__init__()\n",
        "    self.W1 = tf.keras.layers.Dense(units)\n",
        "    self.W2 = tf.keras.layers.Dense(units)\n",
        "    self.V = tf.keras.layers.Dense(1)\n",
        "\n",
        "  def call(self, query, values):\n",
        "    # query hidden state shape == (batch_size, hidden size)\n",
        "    # query_with_time_axis shape == (batch_size, 1, hidden size)\n",
        "    # values shape == (batch_size, max_len, hidden size)\n",
        "    # we are doing this to broadcast addition along the time axis to calculate the score\n",
        "    query_with_time_axis = tf.expand_dims(query, 1)\n",
        "\n",
        "    # score shape == (batch_size, max_length, 1)\n",
        "    # we get 1 at the last axis because we are applying score to self.V\n",
        "    # the shape of the tensor before applying self.V is (batch_size, max_length, units)\n",
        "    score = self.V(tf.nn.tanh(\n",
        "        self.W1(query_with_time_axis) + self.W2(values)))\n",
        "\n",
        "    # attention_weights shape == (batch_size, max_length, 1)\n",
        "    attention_weights = tf.nn.softmax(score, axis=1)\n",
        "\n",
        "    # context_vector shape after sum == (batch_size, hidden_size)\n",
        "    context_vector = attention_weights * values\n",
        "    context_vector = tf.reduce_sum(context_vector, axis=1)\n",
        "\n",
        "    return context_vector, attention_weights"
      ],
      "execution_count": null,
      "outputs": []
    },
    {
      "cell_type": "code",
      "metadata": {
        "id": "ZozAOFb-J_ML"
      },
      "source": [
        "attention_layer = BahdanauAttention(10)\n",
        "attention_result, attention_weights = attention_layer(sample_hidden, sample_output)\n",
        "\n",
        "print(\"Attention result shape: (batch size, units) {}\".format(attention_result.shape))\n",
        "print(\"Attention weights shape: (batch_size, sequence_length, 1) {}\".format(attention_weights.shape))"
      ],
      "execution_count": null,
      "outputs": []
    },
    {
      "cell_type": "code",
      "metadata": {
        "id": "hGX9KSTuKAj8"
      },
      "source": [
        "class Decoder(tf.keras.Model):\n",
        "  def __init__(self, vocab_size, embedding_dim, dec_units, batch_sz):\n",
        "    super(Decoder, self).__init__()\n",
        "    self.batch_sz = batch_sz\n",
        "    self.dec_units = dec_units\n",
        "    self.embedding = tf.keras.layers.Embedding(vocab_size, embedding_dim)\n",
        "    self.gru = tf.keras.layers.GRU(self.dec_units,\n",
        "                                   return_sequences=True,\n",
        "                                   return_state=True,\n",
        "                                   recurrent_initializer='glorot_uniform')\n",
        "    self.fc = tf.keras.layers.Dense(vocab_size)\n",
        "\n",
        "    # used for attention\n",
        "    self.attention = BahdanauAttention(self.dec_units)\n",
        "\n",
        "  def call(self, x, hidden, enc_output):\n",
        "    # enc_output shape == (batch_size, max_length, hidden_size)\n",
        "    context_vector, attention_weights = self.attention(hidden, enc_output)\n",
        "\n",
        "    # x shape after passing through embedding == (batch_size, 1, embedding_dim)\n",
        "    x = self.embedding(x)\n",
        "\n",
        "    # x shape after concatenation == (batch_size, 1, embedding_dim + hidden_size)\n",
        "    x = tf.concat([tf.expand_dims(context_vector, 1), x], axis=-1)\n",
        "\n",
        "    # passing the concatenated vector to the GRU\n",
        "    output, state = self.gru(x)\n",
        "\n",
        "    # output shape == (batch_size * 1, hidden_size)\n",
        "    output = tf.reshape(output, (-1, output.shape[2]))\n",
        "\n",
        "    # output shape == (batch_size, vocab)\n",
        "    x = self.fc(output)\n",
        "\n",
        "    return x, state, attention_weights"
      ],
      "execution_count": null,
      "outputs": []
    },
    {
      "cell_type": "code",
      "metadata": {
        "id": "A3xIC7JPKCkT"
      },
      "source": [
        "decoder = Decoder(vocab_tar_size, embedding_dim, units, BATCH_SIZE)\n",
        "\n",
        "sample_decoder_output, _, _ = decoder(tf.random.uniform((BATCH_SIZE, 1)),\n",
        "                                      sample_hidden, sample_output)\n",
        "\n",
        "print ('Decoder output shape: (batch_size, vocab size) {}'.format(sample_decoder_output.shape))"
      ],
      "execution_count": null,
      "outputs": []
    },
    {
      "cell_type": "code",
      "metadata": {
        "id": "A8u7eVEsKD8U"
      },
      "source": [
        "optimizer = tf.keras.optimizers.Adam()\n",
        "loss_object = tf.keras.losses.SparseCategoricalCrossentropy(\n",
        "    from_logits=True, reduction='none')\n",
        "\n",
        "def loss_function(real, pred):\n",
        "  mask = tf.math.logical_not(tf.math.equal(real, 0))\n",
        "  loss_ = loss_object(real, pred)\n",
        "\n",
        "  mask = tf.cast(mask, dtype=loss_.dtype)\n",
        "  loss_ *= mask\n",
        "\n",
        "  return tf.reduce_mean(loss_)"
      ],
      "execution_count": null,
      "outputs": []
    },
    {
      "cell_type": "code",
      "metadata": {
        "id": "27J87H1ZKFXb"
      },
      "source": [
        "checkpoint_dir = filePath + 'model_training_checkpoints'\n",
        "checkpoint_prefix = os.path.join(checkpoint_dir, \"ckpt\")\n",
        "checkpoint = tf.train.Checkpoint(optimizer=optimizer,\n",
        "                                 encoder=encoder,\n",
        "                                 decoder=decoder)"
      ],
      "execution_count": null,
      "outputs": []
    },
    {
      "cell_type": "code",
      "metadata": {
        "id": "s6K2TKiuKGeD"
      },
      "source": [
        "@tf.function\n",
        "def train_step(inp, targ, enc_hidden):\n",
        "  loss = 0\n",
        "\n",
        "  with tf.GradientTape() as tape:\n",
        "    enc_output, enc_hidden = encoder(inp, enc_hidden)\n",
        "\n",
        "    dec_hidden = enc_hidden\n",
        "\n",
        "    dec_input = tf.expand_dims([targ_text.word_index['<start>']] * BATCH_SIZE, 1)\n",
        "\n",
        "    # Teacher forcing - feeding the target as the next input\n",
        "    for t in range(1, targ.shape[1]):\n",
        "      # passing enc_output to the decoder\n",
        "      predictions, dec_hidden, _ = decoder(dec_input, dec_hidden, enc_output)\n",
        "\n",
        "      loss += loss_function(targ[:, t], predictions)\n",
        "\n",
        "      # using teacher forcing\n",
        "      dec_input = tf.expand_dims(targ[:, t], 1)\n",
        "\n",
        "  batch_loss = (loss / int(targ.shape[1]))\n",
        "\n",
        "  variables = encoder.trainable_variables + decoder.trainable_variables\n",
        "\n",
        "  gradients = tape.gradient(loss, variables)\n",
        "\n",
        "  optimizer.apply_gradients(zip(gradients, variables))\n",
        "\n",
        "  return batch_loss"
      ],
      "execution_count": null,
      "outputs": []
    },
    {
      "cell_type": "code",
      "metadata": {
        "id": "2TKJyxKlKI2z"
      },
      "source": [
        "EPOCHS = 10\n",
        "\n",
        "for epoch in range(EPOCHS):\n",
        "  start = time.time()\n",
        "\n",
        "  enc_hidden = encoder.initialize_hidden_state()\n",
        "  total_loss = 0\n",
        "\n",
        "  for (batch, (inp, targ)) in enumerate(dataset.take(steps_per_epoch)):\n",
        "    batch_loss = train_step(inp, targ, enc_hidden)\n",
        "    total_loss += batch_loss\n",
        "\n",
        "    if batch % 100 == 0:\n",
        "      print('Epoch {} Batch {} Loss {:.4f}'.format(epoch + 1,\n",
        "                                                   batch,\n",
        "                                                   batch_loss.numpy()))\n",
        "  # saving (checkpoint) the model every 2 epochs\n",
        "  if (epoch + 1) % 2 == 0:\n",
        "    checkpoint.save(file_prefix = checkpoint_prefix)\n",
        "\n",
        "  print('Epoch {} Loss {:.4f}'.format(epoch + 1,\n",
        "                                      total_loss / steps_per_epoch))\n",
        "  print('Time taken for 1 epoch {} sec\\n'.format(time.time() - start))"
      ],
      "execution_count": null,
      "outputs": []
    },
    {
      "cell_type": "code",
      "metadata": {
        "id": "XHe4k2qCKRXG"
      },
      "source": [
        "# restoring the latest checkpoint in checkpoint_dir\n",
        "checkpoint.restore(tf.train.latest_checkpoint(checkpoint_dir))"
      ],
      "execution_count": null,
      "outputs": []
    },
    {
      "cell_type": "code",
      "metadata": {
        "id": "_CC_-BwvqWPi"
      },
      "source": [
        "# # 模型預測\n",
        "# def evaluate(inputs):\n",
        "\n",
        "#   # input的token還原為文字\n",
        "#   sentence = ''\n",
        "#   for t in inputs:\n",
        "#     if t!= 0:\n",
        "#       sentence += inp_text.index_word[t] + ' '\n",
        "\n",
        "#   attention_plot = np.zeros((max_length_targ, max_length_inp))\n",
        "\n",
        "#   # output結果\n",
        "#   result = ''\n",
        "\n",
        "#   inputs = inputs[None, :]\n",
        "\n",
        "#   hidden = [tf.zeros((1, units))]\n",
        "#   enc_out, enc_hidden = encoder(inputs, hidden)\n",
        "\n",
        "#   dec_hidden = enc_hidden\n",
        "#   dec_input = tf.expand_dims([targ_text.word_index['<start>']], 0)\n",
        "\n",
        "#   for t in range(max_length_targ):\n",
        "#     predictions, dec_hidden, attention_weights = decoder(dec_input,\n",
        "#                                                          dec_hidden,\n",
        "#                                                          enc_out)\n",
        "\n",
        "#     # storing the attention weights to plot later on\n",
        "#     attention_weights = tf.reshape(attention_weights, (-1, ))\n",
        "#     attention_plot[t] = attention_weights.numpy()\n",
        "\n",
        "#     predicted_id = tf.argmax(predictions[0]).numpy()\n",
        "\n",
        "#     result += targ_text.index_word[predicted_id] + ' '\n",
        "\n",
        "#     if targ_text.index_word[predicted_id] == '<end>':\n",
        "#       return result, sentence, attention_plot\n",
        "\n",
        "#     # the predicted ID is fed back into the model\n",
        "#     dec_input = tf.expand_dims([predicted_id], 0)\n",
        "\n",
        "#   return result, sentence, attention_plot"
      ],
      "execution_count": null,
      "outputs": []
    },
    {
      "cell_type": "code",
      "metadata": {
        "id": "8SyoDRHQ3wcD"
      },
      "source": [
        "# # 範例\n",
        "# result, sentence, attention_plot = evaluate(input_tensor_train[10])\n",
        "# print('raw_address: ', sentence)\n",
        "# print('predict POI/street: ', result)"
      ],
      "execution_count": null,
      "outputs": []
    },
    {
      "cell_type": "code",
      "metadata": {
        "id": "6w1QPAMn9dP6"
      },
      "source": [
        "# # 模型預測\n",
        "# def predict(inputs):\n",
        "\n",
        "#   # output結果\n",
        "#   result = np.array([], dtype='int32')\n",
        "\n",
        "#   inputs = inputs[None, :]\n",
        "\n",
        "#   hidden = [tf.zeros((1, units))]\n",
        "#   enc_out, enc_hidden = encoder(inputs, hidden)\n",
        "\n",
        "#   dec_hidden = enc_hidden\n",
        "#   dec_input = tf.expand_dims([targ_text.word_index['<start>']], 0)\n",
        "\n",
        "#   for t in range(max_length_targ):\n",
        "#     predictions, dec_hidden, attention_weights = decoder(dec_input,\n",
        "#                                                          dec_hidden,\n",
        "#                                                          enc_out)\n",
        "\n",
        "#     predicted_id = tf.argmax(predictions[0]).numpy()\n",
        "\n",
        "#     result = np.append(result, predicted_id) \n",
        "\n",
        "#     if targ_text.index_word[predicted_id] == '<end>':\n",
        "#       return result\n",
        "\n",
        "#     # the predicted ID is fed back into the model\n",
        "#     dec_input = tf.expand_dims([predicted_id], 0)\n",
        "\n",
        "#   return result"
      ],
      "execution_count": null,
      "outputs": []
    },
    {
      "cell_type": "code",
      "metadata": {
        "id": "zhGW3dgxFyoE"
      },
      "source": [
        "# # 評分 預測的token代碼需與實際的token代碼完全相符\n",
        "# def evaluate(real, pred):\n",
        "\n",
        "#   if len(real)-len(pred) < 0:\n",
        "#     return 0\n",
        "    \n",
        "#   pred = np.pad(pred, (0, len(real)-len(pred)), 'constant', constant_values=0)\n",
        "\n",
        "#   if np.sum(np.subtract(real, pred)) == 0:\n",
        "#     return 1\n",
        "#   else:\n",
        "#     return 0"
      ],
      "execution_count": null,
      "outputs": []
    },
    {
      "cell_type": "code",
      "metadata": {
        "id": "hz9lmJNHHfW1"
      },
      "source": [
        "# # 計算訓練集預測準確度\n",
        "# trainScore = 0\n",
        "# for i in range(len(target_tensor_train)):\n",
        "\n",
        "#   score = evaluate(real=target_tensor_train[i][1:],  # 取1是為移除<start>標籤\n",
        "#                    pred=predict(input_tensor_train[i]))\n",
        "#   trainScore += score"
      ],
      "execution_count": null,
      "outputs": []
    },
    {
      "cell_type": "code",
      "metadata": {
        "id": "DZVh_5f0IiQW"
      },
      "source": [
        "# # 計算訓練集準確度\n",
        "# trainAcc = trainScore/len(target_tensor_train)\n",
        "# print(f'訓練集預測poi準確度:{trainAcc}')"
      ],
      "execution_count": null,
      "outputs": []
    },
    {
      "cell_type": "code",
      "metadata": {
        "id": "zmk6JzcMZ8Xy"
      },
      "source": [
        "# 處理預測集資料\n",
        "# 讀取預測集數據\n",
        "testData = pd.read_csv(filePath + 'test.csv')\n",
        "testData"
      ],
      "execution_count": null,
      "outputs": []
    },
    {
      "cell_type": "code",
      "metadata": {
        "id": "VGQQjB3wPg3b"
      },
      "source": [
        "# 文本預處理\n",
        "# 將raw_address的','改為' , '\n",
        "# 此處保留逗號 因為對地址來說 應該是蠻重要的 可以區分不同類別(省份, 地標, 路, 街道, 號碼, etc)\n",
        "testData['raw_address'] = testData['raw_address'].str.replace(',', ' , ')\n",
        "# poi和street由於是預測目標 需完全相符才會得分 故不做預處理\n",
        "\n",
        "# 加入<start>和<end>字詞 讓模型知道何時開始預測與停止\n",
        "testData['raw_address'] = '<start> ' + testData['raw_address'] + ' <end>'\n",
        "testData"
      ],
      "execution_count": null,
      "outputs": []
    },
    {
      "cell_type": "code",
      "metadata": {
        "id": "YtZhmudlP0iF"
      },
      "source": [
        "# 模型預測預測集\n",
        "def test_evaluate(sentence):\n",
        "\n",
        "  inputs = [inp_text.word_index[i] for i in sentence.split(' ') if i in inp_text.word_index.keys()]\n",
        "  inputs = tf.keras.preprocessing.sequence.pad_sequences([inputs],\n",
        "                                                         maxlen=max_length_inp,\n",
        "                                                         padding='post')\n",
        "  inputs = tf.convert_to_tensor(inputs)\n",
        "\n",
        "  # output結果\n",
        "  result = ''\n",
        "\n",
        "  # inputs = inputs[None, :]\n",
        "\n",
        "  hidden = [tf.zeros((1, units))]\n",
        "  enc_out, enc_hidden = encoder(inputs, hidden)\n",
        "\n",
        "  dec_hidden = enc_hidden\n",
        "  dec_input = tf.expand_dims([targ_text.word_index['<start>']], 0)\n",
        "\n",
        "  for t in range(max_length_targ):\n",
        "    predictions, dec_hidden, attention_weights = decoder(dec_input,\n",
        "                                                         dec_hidden,\n",
        "                                                         enc_out)\n",
        "\n",
        "    predicted_id = tf.argmax(predictions[0]).numpy()\n",
        "\n",
        "    if targ_text.index_word[predicted_id] == '<end>':\n",
        "      result = result[:-1]  # 刪除最後的空白\n",
        "      return result\n",
        "    else:\n",
        "      result += targ_text.index_word[predicted_id] + ' '\n",
        "\n",
        "    # the predicted ID is fed back into the model\n",
        "    dec_input = tf.expand_dims([predicted_id], 0)\n",
        "\n",
        "  return result"
      ],
      "execution_count": null,
      "outputs": []
    },
    {
      "cell_type": "code",
      "metadata": {
        "id": "0PYLZHyYRpdR"
      },
      "source": [
        "# 測試\n",
        "test_evaluate(testData['raw_address'][55])"
      ],
      "execution_count": null,
      "outputs": []
    },
    {
      "cell_type": "code",
      "metadata": {
        "id": "mJ-sK5whR3Wt"
      },
      "source": [
        "# 進行預測\n",
        "prdictResult = list()\n",
        "for i in range(len(testData['raw_address'])):\n",
        "  prdictResult.append(test_evaluate(testData['raw_address'][i]))\n",
        "  if i % 50 == 0:\n",
        "    print(f\"目前進度: {i+1}/{len(testData['raw_address'])} \")"
      ],
      "execution_count": null,
      "outputs": []
    },
    {
      "cell_type": "code",
      "metadata": {
        "id": "r1UjfSBdIBGj"
      },
      "source": [
        "# 整理預測結果\n",
        "output = pd.DataFrame({'POI/street':prdictResult})\n",
        "output['POI/street'] = output['POI/street'].str.replace(' <slash> ', '/')\n",
        "output['POI/street'] = output['POI/street'].str.replace('<slash> ', '/')\n",
        "output['POI/street'] = output['POI/street'].str.replace(' <slash>', '/')\n",
        "output['POI/street'] = output['POI/street'].str.replace('<slash>', '/')\n",
        "output['id'] = output.index\n",
        "output = output[['id', 'POI/street']]\n",
        "output"
      ],
      "execution_count": null,
      "outputs": []
    },
    {
      "cell_type": "code",
      "metadata": {
        "id": "q28af2JnaK__"
      },
      "source": [
        "# 儲存結果\n",
        "output.to_csv(filePath + 'test_predict.csv', index=False)"
      ],
      "execution_count": null,
      "outputs": []
    },
    {
      "cell_type": "code",
      "metadata": {
        "id": "OtmCMwZJyM_h"
      },
      "source": [
        ""
      ],
      "execution_count": null,
      "outputs": []
    }
  ]
}