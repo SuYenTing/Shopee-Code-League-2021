{
  "nbformat": 4,
  "nbformat_minor": 0,
  "metadata": {
    "colab": {
      "name": "shopee-multi-channel-contacts",
      "provenance": [],
      "authorship_tag": "ABX9TyMea5v243/oz/d2VHCxPx1i",
      "include_colab_link": true
    },
    "kernelspec": {
      "name": "python3",
      "display_name": "Python 3"
    }
  },
  "cells": [
    {
      "cell_type": "markdown",
      "metadata": {
        "id": "view-in-github",
        "colab_type": "text"
      },
      "source": [
        "<a href=\"https://colab.research.google.com/github/SuYenTing/Shopee-Code-League-2021/blob/main/shopee_multi_channel_contacts.ipynb\" target=\"_parent\"><img src=\"https://colab.research.google.com/assets/colab-badge.svg\" alt=\"Open In Colab\"/></a>"
      ]
    },
    {
      "cell_type": "markdown",
      "metadata": {
        "id": "MRvCx3uVBKRN"
      },
      "source": [
        "# Shopee Code League - Multi-Channel Contacts\n",
        "2021/03/10 蘇彥庭"
      ]
    },
    {
      "cell_type": "code",
      "metadata": {
        "id": "VVtq6ldjsJEK"
      },
      "source": [
        "# 匯入套件\n",
        "import pandas as pd"
      ],
      "execution_count": null,
      "outputs": []
    },
    {
      "cell_type": "code",
      "metadata": {
        "id": "tVt5CV6SsNTK"
      },
      "source": [
        "# 讀取原始檔案\n",
        "df = pd.read_json('contacts.json',  encoding='utf8')"
      ],
      "execution_count": null,
      "outputs": []
    },
    {
      "cell_type": "code",
      "metadata": {
        "id": "QM3oFp8ksOqB"
      },
      "source": [
        "# 整理相同Email欄位的ticket id set資訊\n",
        "emailDf = df.groupby('Email', as_index=False).agg({'Id': lambda x: set(x)})\n",
        "emailDf = emailDf.loc[emailDf['Email'] != '', ['Id']]\n",
        "\n",
        "# 整理相同Phone欄位的ticket id set資訊\n",
        "phoneDf = df.groupby('Phone', as_index=False).agg({'Id': lambda x: set(x)})\n",
        "phoneDf = phoneDf.loc[phoneDf['Phone'] != '', ['Id']]\n",
        "\n",
        "# 整理相同OrderId欄位的ticket id set資訊\n",
        "orderIdDf = df.groupby('OrderId', as_index=False).agg({'Id': lambda x: set(x)})\n",
        "orderIdDf = orderIdDf.loc[orderIdDf['OrderId'] != '', ['Id']]"
      ],
      "execution_count": null,
      "outputs": []
    },
    {
      "cell_type": "code",
      "metadata": {
        "id": "0WAqMMnqsQMx"
      },
      "source": [
        "# 整合ticket id set資訊\n",
        "ticketSetsList = pd.concat([emailDf, phoneDf, orderIdDf])['Id'].tolist()"
      ],
      "execution_count": null,
      "outputs": []
    },
    {
      "cell_type": "code",
      "metadata": {
        "id": "ScvLyscLsSEJ"
      },
      "source": [
        "# 整理為字典格式 配合待會的DFS演算法\n",
        "# key為每個ticket id\n",
        "# value為與key有相同資訊的ticket id\n",
        "graph = {}\n",
        "# 迴圈每個set\n",
        "for iSet in ticketSetsList:\n",
        "    # 迴圈每個set裡面的id\n",
        "    for id in iSet:\n",
        "        # 判斷此id是否已為字典的key 若沒有則直接建立 若有則更新set\n",
        "        if id not in graph:\n",
        "            graph[id] = set(iSet)\n",
        "        else:\n",
        "            graph.get(id).update(iSet)"
      ],
      "execution_count": null,
      "outputs": []
    },
    {
      "cell_type": "code",
      "metadata": {
        "id": "PIjcF8uysT17"
      },
      "source": [
        "# DFS演算法參考: https://www.educative.io/edpresso/how-to-implement-depth-first-search-in-python\n",
        "def dfs(visited, graph, id):\n",
        "    if id not in visited:\n",
        "        iUserTicketSet.append(id)\n",
        "        visited.add(id)\n",
        "        for neighbour in graph[id]:\n",
        "            dfs(visited, graph, neighbour)"
      ],
      "execution_count": null,
      "outputs": []
    },
    {
      "cell_type": "code",
      "metadata": {
        "id": "ZhN56aw-sVTz"
      },
      "source": [
        "# 建立已訪問過的ticket id清單\n",
        "visited = set()\n",
        "# 建立使用者對應的tickets清單\n",
        "userTicketSets = list()\n",
        "# 利用DFS演算法整理出同一使用者所擁有的tickets清單\n",
        "# 迴圈每個ticket id\n",
        "for id in range(len(graph)):\n",
        "    iUserTicketSet = list()\n",
        "    dfs(visited, graph, id)\n",
        "    if iUserTicketSet:\n",
        "        userTicketSets.append(sorted(iUserTicketSet))"
      ],
      "execution_count": null,
      "outputs": []
    },
    {
      "cell_type": "code",
      "metadata": {
        "id": "0tYAPHS2sW5J"
      },
      "source": [
        "# 建立每個id所屬的idSets及自訂user編號\n",
        "output = pd.DataFrame({'id': userTicketSets, 'idSets': userTicketSets})\n",
        "output['user'] = output.index\n",
        "output = output.explode('id')"
      ],
      "execution_count": null,
      "outputs": []
    },
    {
      "cell_type": "code",
      "metadata": {
        "id": "r_sFL9swsYN5"
      },
      "source": [
        "# 計算同個使用者Contacts次數\n",
        "contactsDf = output.merge(df[['Id', 'Contacts']], left_on='id', right_on='Id')\n",
        "contactsDf = contactsDf.groupby(['user'], as_index=False).agg({'Contacts': 'sum'})"
      ],
      "execution_count": null,
      "outputs": []
    },
    {
      "cell_type": "code",
      "metadata": {
        "id": "yWPiwsVYsZoJ"
      },
      "source": [
        "# 合併資料並整理Kaggle提交檔案格式\n",
        "output = output.merge(contactsDf, left_on='user', right_on='user')\n",
        "output['idSets'] = ['-'.join(map(str, elem)) for elem in output['idSets']]\n",
        "output['idSets_contacts'] = output['idSets'] + ', ' + output['Contacts'].astype(str)\n",
        "output = output[['id', 'idSets_contacts']]\n",
        "output.columns = ['ticket_id', 'ticket_trace/contact']\n",
        "output = output.sort_values(['ticket_id'])\n",
        "output.to_csv('answer.csv', index=False)"
      ],
      "execution_count": null,
      "outputs": []
    }
  ]
}